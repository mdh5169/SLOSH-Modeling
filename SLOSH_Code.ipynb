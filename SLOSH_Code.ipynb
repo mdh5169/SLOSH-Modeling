{
 "cells": [
  {
   "cell_type": "code",
   "execution_count": 1,
   "metadata": {},
   "outputs": [],
   "source": [
    "#import packages and set workspace\n",
    "\n",
    "import arcpy\n",
    "from arcpy import env\n",
    "from arcpy.sa import *\n",
    "\n",
    "#set workspace\n",
    "arcpy.env.workspace = r\"D:\\UGA Homework\\SLOSH Data\\SLOSH Raw Shapefiles\""
   ]
  },
  {
   "cell_type": "code",
   "execution_count": 2,
   "metadata": {},
   "outputs": [
    {
     "data": {
      "text/html": [
       "<div class='gpresult'><h2>Messages</h2><div id='messages' data-messages='[\"Start Time: Tuesday, October 31, 2023 1:00:07 PM\",\"Succeeded at Tuesday, October 31, 2023 1:00:08 PM (Elapsed Time: 0.45 seconds)\"]' data-show='true'><div id = 'default' /></div></div>"
      ],
      "text/plain": [
       "<Result 'D:\\\\UGA Homework\\\\SLOSH Data\\\\SLOSH Raw Shapefiles\\\\c5_high'>"
      ]
     },
     "execution_count": 2,
     "metadata": {},
     "output_type": "execute_result"
    }
   ],
   "source": [
    "#define projection of SLOSH Shapefiles\n",
    "arcpy.management.DefineProjection(\"c0_high\", 'GEOGCS[\"GCS_WGS_1984\",DATUM[\"D_WGS_1984\",SPHEROID[\"WGS_1984\",6378137.0,298.257223563]],PRIMEM[\"Greenwich\",0.0],UNIT[\"Degree\",0.0174532925199433]]')\n",
    "arcpy.management.DefineProjection(\"c1_high\", 'GEOGCS[\"GCS_WGS_1984\",DATUM[\"D_WGS_1984\",SPHEROID[\"WGS_1984\",6378137.0,298.257223563]],PRIMEM[\"Greenwich\",0.0],UNIT[\"Degree\",0.0174532925199433]]')\n",
    "arcpy.management.DefineProjection(\"c2_high\", 'GEOGCS[\"GCS_WGS_1984\",DATUM[\"D_WGS_1984\",SPHEROID[\"WGS_1984\",6378137.0,298.257223563]],PRIMEM[\"Greenwich\",0.0],UNIT[\"Degree\",0.0174532925199433]]')\n",
    "arcpy.management.DefineProjection(\"c3_high\", 'GEOGCS[\"GCS_WGS_1984\",DATUM[\"D_WGS_1984\",SPHEROID[\"WGS_1984\",6378137.0,298.257223563]],PRIMEM[\"Greenwich\",0.0],UNIT[\"Degree\",0.0174532925199433]]')\n",
    "arcpy.management.DefineProjection(\"c4_high\", 'GEOGCS[\"GCS_WGS_1984\",DATUM[\"D_WGS_1984\",SPHEROID[\"WGS_1984\",6378137.0,298.257223563]],PRIMEM[\"Greenwich\",0.0],UNIT[\"Degree\",0.0174532925199433]]')\n",
    "arcpy.management.DefineProjection(\"c5_high\", 'GEOGCS[\"GCS_WGS_1984\",DATUM[\"D_WGS_1984\",SPHEROID[\"WGS_1984\",6378137.0,298.257223563]],PRIMEM[\"Greenwich\",0.0],UNIT[\"Degree\",0.0174532925199433]]')\n"
   ]
  },
  {
   "cell_type": "code",
   "execution_count": 3,
   "metadata": {},
   "outputs": [
    {
     "data": {
      "text/html": [
       "<div class='gpresult'><h2>Messages</h2><div id='messages' data-messages='[\"Start Time: Tuesday, October 31, 2023 1:00:32 PM\",\"Succeeded at Tuesday, October 31, 2023 1:00:34 PM (Elapsed Time: 1.97 seconds)\"]' data-show='true'><div id = 'default' /></div></div>"
      ],
      "text/plain": [
       "<Result 'C:\\\\Users\\\\mdhowlan\\\\Documents\\\\ArcGIS\\\\Projects\\\\Georgia Flooding\\\\Georgia Flooding.gdb\\\\c5_high_Project'>"
      ]
     },
     "execution_count": 3,
     "metadata": {},
     "output_type": "execute_result"
    }
   ],
   "source": [
    "# Project SLOSH Shapefiles to UTM 17N\n",
    "\n",
    "arcpy.management.Project(\"c0_high\", r\"C:\\Users\\mdhowlan\\Documents\\ArcGIS\\Projects\\Georgia Flooding\\Georgia Flooding.gdb\\c0_high_Project\", 'PROJCS[\"NAD_1983_UTM_Zone_17N\",GEOGCS[\"GCS_North_American_1983\",DATUM[\"D_North_American_1983\",SPHEROID[\"GRS_1980\",6378137.0,298.257222101]],PRIMEM[\"Greenwich\",0.0],UNIT[\"Degree\",0.0174532925199433]],PROJECTION[\"Transverse_Mercator\"],PARAMETER[\"False_Easting\",500000.0],PARAMETER[\"False_Northing\",0.0],PARAMETER[\"Central_Meridian\",-81.0],PARAMETER[\"Scale_Factor\",0.9996],PARAMETER[\"Latitude_Of_Origin\",0.0],UNIT[\"Meter\",1.0]]', \"WGS_1984_(ITRF00)_To_NAD_1983\", 'GEOGCS[\"GCS_WGS_1984\",DATUM[\"D_WGS_1984\",SPHEROID[\"WGS_1984\",6378137.0,298.257223563]],PRIMEM[\"Greenwich\",0.0],UNIT[\"Degree\",0.0174532925199433]]', \"NO_PRESERVE_SHAPE\", None, \"NO_VERTICAL\")\n",
    "arcpy.management.Project(\"c1_high\", r\"C:\\Users\\mdhowlan\\Documents\\ArcGIS\\Projects\\Georgia Flooding\\Georgia Flooding.gdb\\c1_high_Project\", 'PROJCS[\"NAD_1983_UTM_Zone_17N\",GEOGCS[\"GCS_North_American_1983\",DATUM[\"D_North_American_1983\",SPHEROID[\"GRS_1980\",6378137.0,298.257222101]],PRIMEM[\"Greenwich\",0.0],UNIT[\"Degree\",0.0174532925199433]],PROJECTION[\"Transverse_Mercator\"],PARAMETER[\"False_Easting\",500000.0],PARAMETER[\"False_Northing\",0.0],PARAMETER[\"Central_Meridian\",-81.0],PARAMETER[\"Scale_Factor\",0.9996],PARAMETER[\"Latitude_Of_Origin\",0.0],UNIT[\"Meter\",1.0]]', \"WGS_1984_(ITRF00)_To_NAD_1983\", 'GEOGCS[\"GCS_WGS_1984\",DATUM[\"D_WGS_1984\",SPHEROID[\"WGS_1984\",6378137.0,298.257223563]],PRIMEM[\"Greenwich\",0.0],UNIT[\"Degree\",0.0174532925199433]]', \"NO_PRESERVE_SHAPE\", None, \"NO_VERTICAL\")\n",
    "arcpy.management.Project(\"c2_high\", r\"C:\\Users\\mdhowlan\\Documents\\ArcGIS\\Projects\\Georgia Flooding\\Georgia Flooding.gdb\\c2_high_Project\", 'PROJCS[\"NAD_1983_UTM_Zone_17N\",GEOGCS[\"GCS_North_American_1983\",DATUM[\"D_North_American_1983\",SPHEROID[\"GRS_1980\",6378137.0,298.257222101]],PRIMEM[\"Greenwich\",0.0],UNIT[\"Degree\",0.0174532925199433]],PROJECTION[\"Transverse_Mercator\"],PARAMETER[\"False_Easting\",500000.0],PARAMETER[\"False_Northing\",0.0],PARAMETER[\"Central_Meridian\",-81.0],PARAMETER[\"Scale_Factor\",0.9996],PARAMETER[\"Latitude_Of_Origin\",0.0],UNIT[\"Meter\",1.0]]', \"WGS_1984_(ITRF00)_To_NAD_1983\", 'GEOGCS[\"GCS_WGS_1984\",DATUM[\"D_WGS_1984\",SPHEROID[\"WGS_1984\",6378137.0,298.257223563]],PRIMEM[\"Greenwich\",0.0],UNIT[\"Degree\",0.0174532925199433]]', \"NO_PRESERVE_SHAPE\", None, \"NO_VERTICAL\")\n",
    "arcpy.management.Project(\"c3_high\", r\"C:\\Users\\mdhowlan\\Documents\\ArcGIS\\Projects\\Georgia Flooding\\Georgia Flooding.gdb\\c3_high_Project\", 'PROJCS[\"NAD_1983_UTM_Zone_17N\",GEOGCS[\"GCS_North_American_1983\",DATUM[\"D_North_American_1983\",SPHEROID[\"GRS_1980\",6378137.0,298.257222101]],PRIMEM[\"Greenwich\",0.0],UNIT[\"Degree\",0.0174532925199433]],PROJECTION[\"Transverse_Mercator\"],PARAMETER[\"False_Easting\",500000.0],PARAMETER[\"False_Northing\",0.0],PARAMETER[\"Central_Meridian\",-81.0],PARAMETER[\"Scale_Factor\",0.9996],PARAMETER[\"Latitude_Of_Origin\",0.0],UNIT[\"Meter\",1.0]]', \"WGS_1984_(ITRF00)_To_NAD_1983\", 'GEOGCS[\"GCS_WGS_1984\",DATUM[\"D_WGS_1984\",SPHEROID[\"WGS_1984\",6378137.0,298.257223563]],PRIMEM[\"Greenwich\",0.0],UNIT[\"Degree\",0.0174532925199433]]', \"NO_PRESERVE_SHAPE\", None, \"NO_VERTICAL\")\n",
    "arcpy.management.Project(\"c4_high\", r\"C:\\Users\\mdhowlan\\Documents\\ArcGIS\\Projects\\Georgia Flooding\\Georgia Flooding.gdb\\c4_high_Project\", 'PROJCS[\"NAD_1983_UTM_Zone_17N\",GEOGCS[\"GCS_North_American_1983\",DATUM[\"D_North_American_1983\",SPHEROID[\"GRS_1980\",6378137.0,298.257222101]],PRIMEM[\"Greenwich\",0.0],UNIT[\"Degree\",0.0174532925199433]],PROJECTION[\"Transverse_Mercator\"],PARAMETER[\"False_Easting\",500000.0],PARAMETER[\"False_Northing\",0.0],PARAMETER[\"Central_Meridian\",-81.0],PARAMETER[\"Scale_Factor\",0.9996],PARAMETER[\"Latitude_Of_Origin\",0.0],UNIT[\"Meter\",1.0]]', \"WGS_1984_(ITRF00)_To_NAD_1983\", 'GEOGCS[\"GCS_WGS_1984\",DATUM[\"D_WGS_1984\",SPHEROID[\"WGS_1984\",6378137.0,298.257223563]],PRIMEM[\"Greenwich\",0.0],UNIT[\"Degree\",0.0174532925199433]]', \"NO_PRESERVE_SHAPE\", None, \"NO_VERTICAL\")\n",
    "arcpy.management.Project(\"c5_high\", r\"C:\\Users\\mdhowlan\\Documents\\ArcGIS\\Projects\\Georgia Flooding\\Georgia Flooding.gdb\\c5_high_Project\", 'PROJCS[\"NAD_1983_UTM_Zone_17N\",GEOGCS[\"GCS_North_American_1983\",DATUM[\"D_North_American_1983\",SPHEROID[\"GRS_1980\",6378137.0,298.257222101]],PRIMEM[\"Greenwich\",0.0],UNIT[\"Degree\",0.0174532925199433]],PROJECTION[\"Transverse_Mercator\"],PARAMETER[\"False_Easting\",500000.0],PARAMETER[\"False_Northing\",0.0],PARAMETER[\"Central_Meridian\",-81.0],PARAMETER[\"Scale_Factor\",0.9996],PARAMETER[\"Latitude_Of_Origin\",0.0],UNIT[\"Meter\",1.0]]', \"WGS_1984_(ITRF00)_To_NAD_1983\", 'GEOGCS[\"GCS_WGS_1984\",DATUM[\"D_WGS_1984\",SPHEROID[\"WGS_1984\",6378137.0,298.257223563]],PRIMEM[\"Greenwich\",0.0],UNIT[\"Degree\",0.0174532925199433]]', \"NO_PRESERVE_SHAPE\", None, \"NO_VERTICAL\")"
   ]
  },
  {
   "cell_type": "code",
   "execution_count": 4,
   "metadata": {},
   "outputs": [
    {
     "name": "stdout",
     "output_type": "stream",
     "text": [
      "Calculation completed for: c0_high_Project\n",
      "Calculation completed for: c1_high_Project\n",
      "Calculation completed for: c2_high_Project\n",
      "Calculation completed for: c3_high_Project\n",
      "Calculation completed for: c4_high_Project\n",
      "Calculation completed for: c5_high_Project\n",
      "Calculation completed for all shapefiles.\n"
     ]
    }
   ],
   "source": [
    "#edit all the shapefiles so that the 99.9 value for unsubmerged is changed to 0\n",
    "\n",
    "shapefiles = [\"c0_high_Project\", \"c1_high_Project\", \"c2_high_Project\", \"c3_high_Project\", \"c4_high_Project\", \"c5_high_Project\"]\n",
    "field_name = \"surge_heig\"\n",
    "new_field_name = \"surge\"\n",
    "\n",
    "for shapefile in shapefiles:\n",
    "    arcpy.management.AddField(shapefile, new_field_name, \"FLOAT\")\n",
    "    arcpy.management.CalculateField(shapefile, \"surge\", \"Reclass(!surge_heig!)\", \"PYTHON3\", \"\"\"def Reclass( surge_heig ):\n",
    "    if surge_heig >= 99.0:\n",
    "        return 0\n",
    "    else: \n",
    "        return surge_heig\"\"\", \"FLOAT\", \"NO_ENFORCE_DOMAINS\")\n",
    "    print(\"Calculation completed for: \" + shapefile)\n",
    "\n",
    "print(\"Calculation completed for all shapefiles.\")"
   ]
  },
  {
   "cell_type": "markdown",
   "metadata": {},
   "source": [
    "# Run from here"
   ]
  },
  {
   "cell_type": "code",
   "execution_count": 5,
   "metadata": {},
   "outputs": [
    {
     "name": "stdout",
     "output_type": "stream",
     "text": [
      "Process complete for c0\n",
      "Process complete for c1\n",
      "Process complete for c2\n",
      "Process complete for c3\n",
      "Process complete for c4\n",
      "Process complete for c5\n"
     ]
    }
   ],
   "source": [
    "#convert shapefiles to raster\n",
    "\n",
    "with arcpy.EnvManager(outputCoordinateSystem='PROJCS[\"NAD_1983_UTM_Zone_17N\",GEOGCS[\"GCS_North_American_1983\",DATUM[\"D_North_American_1983\",SPHEROID[\"GRS_1980\",6378137.0,298.257222101]],PRIMEM[\"Greenwich\",0.0],UNIT[\"Degree\",0.0174532925199433]],PROJECTION[\"Transverse_Mercator\"],PARAMETER[\"False_Easting\",500000.0],PARAMETER[\"False_Northing\",0.0],PARAMETER[\"Central_Meridian\",-81.0],PARAMETER[\"Scale_Factor\",0.9996],PARAMETER[\"Latitude_Of_Origin\",0.0],UNIT[\"Meter\",1.0]]', snapRaster=\"GACoastDEM2.tif\", extent='-9143892.13498374 3560718.30954127 -8992908.04684389 3870594.24548131 PROJCS[\"WGS_1984_Web_Mercator_Auxiliary_Sphere\",GEOGCS[\"GCS_WGS_1984\",DATUM[\"D_WGS_1984\",SPHEROID[\"WGS_1984\",6378137.0,298.257223563]],PRIMEM[\"Greenwich\",0.0],UNIT[\"Degree\",0.0174532925199433]],PROJECTION[\"Mercator_Auxiliary_Sphere\"],PARAMETER[\"False_Easting\",0.0],PARAMETER[\"False_Northing\",0.0],PARAMETER[\"Central_Meridian\",0.0],PARAMETER[\"Standard_Parallel_1\",0.0],PARAMETER[\"Auxiliary_Sphere_Type\",0.0],UNIT[\"Meter\",1.0]]'):\n",
    "    arcpy.conversion.PolygonToRaster(\"c0_high_Project\", \"surge\", r\"C:\\Users\\mdhowlan\\Documents\\ArcGIS\\Projects\\Georgia Flooding\\Georgia Flooding.gdb\\c0_high_raster\", \"CELL_CENTER\", \"NONE\", 10, \"BUILD\")\n",
    "print(\"Process complete for c0\")\n",
    "with arcpy.EnvManager(outputCoordinateSystem='PROJCS[\"NAD_1983_UTM_Zone_17N\",GEOGCS[\"GCS_North_American_1983\",DATUM[\"D_North_American_1983\",SPHEROID[\"GRS_1980\",6378137.0,298.257222101]],PRIMEM[\"Greenwich\",0.0],UNIT[\"Degree\",0.0174532925199433]],PROJECTION[\"Transverse_Mercator\"],PARAMETER[\"False_Easting\",500000.0],PARAMETER[\"False_Northing\",0.0],PARAMETER[\"Central_Meridian\",-81.0],PARAMETER[\"Scale_Factor\",0.9996],PARAMETER[\"Latitude_Of_Origin\",0.0],UNIT[\"Meter\",1.0]]', snapRaster=\"GACoastDEM2.tif\", extent='-9143892.13498374 3560718.30954127 -8992908.04684389 3870594.24548131 PROJCS[\"WGS_1984_Web_Mercator_Auxiliary_Sphere\",GEOGCS[\"GCS_WGS_1984\",DATUM[\"D_WGS_1984\",SPHEROID[\"WGS_1984\",6378137.0,298.257223563]],PRIMEM[\"Greenwich\",0.0],UNIT[\"Degree\",0.0174532925199433]],PROJECTION[\"Mercator_Auxiliary_Sphere\"],PARAMETER[\"False_Easting\",0.0],PARAMETER[\"False_Northing\",0.0],PARAMETER[\"Central_Meridian\",0.0],PARAMETER[\"Standard_Parallel_1\",0.0],PARAMETER[\"Auxiliary_Sphere_Type\",0.0],UNIT[\"Meter\",1.0]]'):\n",
    "    arcpy.conversion.PolygonToRaster(\"c1_high_Project\", \"surge\", r\"C:\\Users\\mdhowlan\\Documents\\ArcGIS\\Projects\\Georgia Flooding\\Georgia Flooding.gdb\\c1_high_raster\", \"CELL_CENTER\", \"NONE\", 10, \"BUILD\")\n",
    "print(\"Process complete for c1\")\n",
    "with arcpy.EnvManager(outputCoordinateSystem='PROJCS[\"NAD_1983_UTM_Zone_17N\",GEOGCS[\"GCS_North_American_1983\",DATUM[\"D_North_American_1983\",SPHEROID[\"GRS_1980\",6378137.0,298.257222101]],PRIMEM[\"Greenwich\",0.0],UNIT[\"Degree\",0.0174532925199433]],PROJECTION[\"Transverse_Mercator\"],PARAMETER[\"False_Easting\",500000.0],PARAMETER[\"False_Northing\",0.0],PARAMETER[\"Central_Meridian\",-81.0],PARAMETER[\"Scale_Factor\",0.9996],PARAMETER[\"Latitude_Of_Origin\",0.0],UNIT[\"Meter\",1.0]]', snapRaster=\"GACoastDEM2.tif\", extent='-9143892.13498374 3560718.30954127 -8992908.04684389 3870594.24548131 PROJCS[\"WGS_1984_Web_Mercator_Auxiliary_Sphere\",GEOGCS[\"GCS_WGS_1984\",DATUM[\"D_WGS_1984\",SPHEROID[\"WGS_1984\",6378137.0,298.257223563]],PRIMEM[\"Greenwich\",0.0],UNIT[\"Degree\",0.0174532925199433]],PROJECTION[\"Mercator_Auxiliary_Sphere\"],PARAMETER[\"False_Easting\",0.0],PARAMETER[\"False_Northing\",0.0],PARAMETER[\"Central_Meridian\",0.0],PARAMETER[\"Standard_Parallel_1\",0.0],PARAMETER[\"Auxiliary_Sphere_Type\",0.0],UNIT[\"Meter\",1.0]]'):\n",
    "    arcpy.conversion.PolygonToRaster(\"c2_high_Project\", \"surge\", r\"C:\\Users\\mdhowlan\\Documents\\ArcGIS\\Projects\\Georgia Flooding\\Georgia Flooding.gdb\\c2_high_raster\", \"CELL_CENTER\", \"NONE\", 10, \"BUILD\")\n",
    "print(\"Process complete for c2\")\n",
    "\n",
    "with arcpy.EnvManager(outputCoordinateSystem='PROJCS[\"NAD_1983_UTM_Zone_17N\",GEOGCS[\"GCS_North_American_1983\",DATUM[\"D_North_American_1983\",SPHEROID[\"GRS_1980\",6378137.0,298.257222101]],PRIMEM[\"Greenwich\",0.0],UNIT[\"Degree\",0.0174532925199433]],PROJECTION[\"Transverse_Mercator\"],PARAMETER[\"False_Easting\",500000.0],PARAMETER[\"False_Northing\",0.0],PARAMETER[\"Central_Meridian\",-81.0],PARAMETER[\"Scale_Factor\",0.9996],PARAMETER[\"Latitude_Of_Origin\",0.0],UNIT[\"Meter\",1.0]]', snapRaster=\"GACoastDEM2.tif\", extent='-9143892.13498374 3560718.30954127 -8992908.04684389 3870594.24548131 PROJCS[\"WGS_1984_Web_Mercator_Auxiliary_Sphere\",GEOGCS[\"GCS_WGS_1984\",DATUM[\"D_WGS_1984\",SPHEROID[\"WGS_1984\",6378137.0,298.257223563]],PRIMEM[\"Greenwich\",0.0],UNIT[\"Degree\",0.0174532925199433]],PROJECTION[\"Mercator_Auxiliary_Sphere\"],PARAMETER[\"False_Easting\",0.0],PARAMETER[\"False_Northing\",0.0],PARAMETER[\"Central_Meridian\",0.0],PARAMETER[\"Standard_Parallel_1\",0.0],PARAMETER[\"Auxiliary_Sphere_Type\",0.0],UNIT[\"Meter\",1.0]]'):\n",
    "    arcpy.conversion.PolygonToRaster(\"c3_high_Project\", \"surge\", r\"C:\\Users\\mdhowlan\\Documents\\ArcGIS\\Projects\\Georgia Flooding\\Georgia Flooding.gdb\\c3_high_raster\", \"CELL_CENTER\", \"NONE\", 10, \"BUILD\")\n",
    "print(\"Process complete for c3\")\n",
    "\n",
    "with arcpy.EnvManager(outputCoordinateSystem='PROJCS[\"NAD_1983_UTM_Zone_17N\",GEOGCS[\"GCS_North_American_1983\",DATUM[\"D_North_American_1983\",SPHEROID[\"GRS_1980\",6378137.0,298.257222101]],PRIMEM[\"Greenwich\",0.0],UNIT[\"Degree\",0.0174532925199433]],PROJECTION[\"Transverse_Mercator\"],PARAMETER[\"False_Easting\",500000.0],PARAMETER[\"False_Northing\",0.0],PARAMETER[\"Central_Meridian\",-81.0],PARAMETER[\"Scale_Factor\",0.9996],PARAMETER[\"Latitude_Of_Origin\",0.0],UNIT[\"Meter\",1.0]]', snapRaster=\"GACoastDEM2.tif\", extent='-9143892.13498374 3560718.30954127 -8992908.04684389 3870594.24548131 PROJCS[\"WGS_1984_Web_Mercator_Auxiliary_Sphere\",GEOGCS[\"GCS_WGS_1984\",DATUM[\"D_WGS_1984\",SPHEROID[\"WGS_1984\",6378137.0,298.257223563]],PRIMEM[\"Greenwich\",0.0],UNIT[\"Degree\",0.0174532925199433]],PROJECTION[\"Mercator_Auxiliary_Sphere\"],PARAMETER[\"False_Easting\",0.0],PARAMETER[\"False_Northing\",0.0],PARAMETER[\"Central_Meridian\",0.0],PARAMETER[\"Standard_Parallel_1\",0.0],PARAMETER[\"Auxiliary_Sphere_Type\",0.0],UNIT[\"Meter\",1.0]]'):\n",
    "    arcpy.conversion.PolygonToRaster(\"c4_high_Project\", \"surge\", r\"C:\\Users\\mdhowlan\\Documents\\ArcGIS\\Projects\\Georgia Flooding\\Georgia Flooding.gdb\\c4_high_raster\", \"CELL_CENTER\", \"NONE\", 10, \"BUILD\")\n",
    "print(\"Process complete for c4\")\n",
    "\n",
    "with arcpy.EnvManager(outputCoordinateSystem='PROJCS[\"NAD_1983_UTM_Zone_17N\",GEOGCS[\"GCS_North_American_1983\",DATUM[\"D_North_American_1983\",SPHEROID[\"GRS_1980\",6378137.0,298.257222101]],PRIMEM[\"Greenwich\",0.0],UNIT[\"Degree\",0.0174532925199433]],PROJECTION[\"Transverse_Mercator\"],PARAMETER[\"False_Easting\",500000.0],PARAMETER[\"False_Northing\",0.0],PARAMETER[\"Central_Meridian\",-81.0],PARAMETER[\"Scale_Factor\",0.9996],PARAMETER[\"Latitude_Of_Origin\",0.0],UNIT[\"Meter\",1.0]]', snapRaster=\"GACoastDEM2.tif\", extent='-9143892.13498374 3560718.30954127 -8992908.04684389 3870594.24548131 PROJCS[\"WGS_1984_Web_Mercator_Auxiliary_Sphere\",GEOGCS[\"GCS_WGS_1984\",DATUM[\"D_WGS_1984\",SPHEROID[\"WGS_1984\",6378137.0,298.257223563]],PRIMEM[\"Greenwich\",0.0],UNIT[\"Degree\",0.0174532925199433]],PROJECTION[\"Mercator_Auxiliary_Sphere\"],PARAMETER[\"False_Easting\",0.0],PARAMETER[\"False_Northing\",0.0],PARAMETER[\"Central_Meridian\",0.0],PARAMETER[\"Standard_Parallel_1\",0.0],PARAMETER[\"Auxiliary_Sphere_Type\",0.0],UNIT[\"Meter\",1.0]]'):\n",
    "    arcpy.conversion.PolygonToRaster(\"c5_high_Project\", \"surge\", r\"C:\\Users\\mdhowlan\\Documents\\ArcGIS\\Projects\\Georgia Flooding\\Georgia Flooding.gdb\\c5_high_raster\", \"CELL_CENTER\", \"NONE\", 10, \"BUILD\")\n",
    "print(\"Process complete for c5\")\n"
   ]
  },
  {
   "cell_type": "code",
   "execution_count": 6,
   "metadata": {},
   "outputs": [],
   "source": [
    "#subtract storm surge heights from the elevation to see submerged areas\n",
    "#then reclassify the DEMs into submerged or not sumberged\n",
    "\n",
    "import arcpy\n",
    "from arcpy import env\n",
    "from arcpy.sa import *\n",
    "\n",
    "arcpy.env.workspace = r\"C:\\Users\\mdhowlan\\Documents\\ArcGIS\\Projects\\Georgia Flooding\\Georgia Flooding.gdb\"\n",
    "\n",
    "c0 = Raster(\"c0_high_raster\")\n",
    "c1 = Raster(\"c1_high_raster\")\n",
    "c2 = Raster(\"c2_high_raster\")\n",
    "c3 = Raster(\"c3_high_raster\")\n",
    "c4 = Raster(\"c4_high_raster\")\n",
    "c5 = Raster(\"c5_high_raster\")\n",
    "\n",
    "c0_m = c0*0.3048\n",
    "c1_m = c1*0.3048\n",
    "c2_m = c2*0.3048\n",
    "c3_m = c3*0.3048\n",
    "c4_m = c4*0.3048\n",
    "c5_m = c5*0.3048"
   ]
  },
  {
   "cell_type": "code",
   "execution_count": 7,
   "metadata": {},
   "outputs": [],
   "source": [
    "#resample the base DEM to 10m from 1m\n",
    "with arcpy.EnvManager(outputCoordinateSystem='PROJCS[\"NAD_1983_UTM_Zone_17N\",GEOGCS[\"GCS_North_American_1983\",DATUM[\"D_North_American_1983\",SPHEROID[\"GRS_1980\",6378137.0,298.257222101]],PRIMEM[\"Greenwich\",0.0],UNIT[\"Degree\",0.0174532925199433]],PROJECTION[\"Transverse_Mercator\"],PARAMETER[\"False_Easting\",500000.0],PARAMETER[\"False_Northing\",0.0],PARAMETER[\"Central_Meridian\",-81.0],PARAMETER[\"Scale_Factor\",0.9996],PARAMETER[\"Latitude_Of_Origin\",0.0],UNIT[\"Meter\",1.0]]', resamplingMethod=\"BILINEAR\"):\n",
    "    arcpy.management.Resample(\"GACoastDEM2.tif\", r\"C:\\Users\\mdhowlan\\Documents\\ArcGIS\\Projects\\Georgia Flooding\\Coast10_DEM.tif\", \"10 10\", \"BILINEAR\")"
   ]
  },
  {
   "cell_type": "code",
   "execution_count": 2,
   "metadata": {},
   "outputs": [],
   "source": [
    "#read in resampled DEM as variable\n",
    "\n",
    "Coast10_DEM = Raster(\"Coast10_DEM.tif\")"
   ]
  },
  {
   "cell_type": "code",
   "execution_count": 3,
   "metadata": {},
   "outputs": [],
   "source": [
    "#create new DEMs relative to sea level projections by subtracting SLR projections\n",
    "\n",
    "lowSLR_DEM = Minus(Coast10_DEM, 0.5)\n",
    "medSLR_DEM = Minus(Coast10_DEM, 1.38)\n",
    "highSLR_DEM = Minus(Coast10_DEM, 2.09)\n",
    "\n"
   ]
  },
  {
   "cell_type": "code",
   "execution_count": 10,
   "metadata": {},
   "outputs": [
    {
     "name": "stdout",
     "output_type": "stream",
     "text": [
      "c0 done\n",
      "c1 done\n",
      "c2 done\n",
      "c3 done\n",
      "c4 done\n",
      "c5 done\n",
      "c0 done low\n",
      "c1 done low\n",
      "c2 done low\n",
      "c3 done low\n",
      "c4 done low\n",
      "c5 done low\n",
      "c0 done med\n",
      "c1 done med\n",
      "c2 done med\n",
      "c3 done med\n",
      "c4 done med\n",
      "c5 done med\n",
      "c0 done high\n",
      "c1 done high\n",
      "c2 done high\n",
      "c3 done high\n",
      "c4 done high\n",
      "c5 done high\n"
     ]
    }
   ],
   "source": [
    "#create DEMs representing each SLR and storm surge scenario by subtracting storm surge heights from each DEM\n",
    "\n",
    "c0_inundation = Coast10_DEM - c0_m\n",
    "print('c0 done')\n",
    "c1_inundation = Coast10_DEM - c1_m\n",
    "print('c1 done')\n",
    "c2_inundation = Coast10_DEM - c2_m\n",
    "print('c2 done')\n",
    "c3_inundation = Coast10_DEM - c3_m\n",
    "print('c3 done')\n",
    "c4_inundation = Coast10_DEM - c4_m\n",
    "print('c4 done')\n",
    "c5_inundation = Coast10_DEM - c5_m\n",
    "print('c5 done')\n",
    "\n",
    "c0_inundation_low = lowSLR_DEM - c0_m\n",
    "print('c0 done low')\n",
    "c1_inundation_low = lowSLR_DEM - c1_m\n",
    "print('c1 done low')\n",
    "c2_inundation_low = lowSLR_DEM - c2_m\n",
    "print('c2 done low')\n",
    "c3_inundation_low = lowSLR_DEM - c3_m\n",
    "print('c3 done low')\n",
    "c4_inundation_low = lowSLR_DEM - c4_m\n",
    "print('c4 done low')\n",
    "c5_inundation_low = lowSLR_DEM - c5_m\n",
    "print('c5 done low')\n",
    "\n",
    "c0_inundation_med = medSLR_DEM - c0_m\n",
    "print('c0 done med')\n",
    "c1_inundation_med = medSLR_DEM - c1_m\n",
    "print('c1 done med')\n",
    "c2_inundation_med = medSLR_DEM - c2_m\n",
    "print('c2 done med')\n",
    "c3_inundation_med = medSLR_DEM - c3_m\n",
    "print('c3 done med')\n",
    "c4_inundation_med = medSLR_DEM - c4_m\n",
    "print('c4 done med')\n",
    "c5_inundation_med = medSLR_DEM - c5_m\n",
    "print('c5 done med')\n",
    "\n",
    "c0_inundation_high = highSLR_DEM - c0_m\n",
    "print('c0 done high')\n",
    "c1_inundation_high = highSLR_DEM - c1_m\n",
    "print('c1 done high')\n",
    "c2_inundation_high = highSLR_DEM - c2_m\n",
    "print('c2 done high')\n",
    "c3_inundation_high = highSLR_DEM - c3_m\n",
    "print('c3 done high')\n",
    "c4_inundation_high = highSLR_DEM - c4_m\n",
    "print('c4 done high')\n",
    "c5_inundation_high = highSLR_DEM - c5_m\n",
    "print('c5 done high')"
   ]
  },
  {
   "cell_type": "code",
   "execution_count": 11,
   "metadata": {},
   "outputs": [
    {
     "name": "stdout",
     "output_type": "stream",
     "text": [
      "c0 reclass processed\n",
      "c1 reclass processed\n",
      "c2 reclass processed\n",
      "c3 reclass processed\n",
      "c4 reclass processed\n",
      "c5 reclass processed\n",
      "c0 reclass processed low\n",
      "c1 reclass processed low\n",
      "c2 reclass processed low\n",
      "c3 reclass processed low\n",
      "c4 reclass processed low\n",
      "c5 reclass processed low\n",
      "c0 reclass processed med\n",
      "c1 reclass processed med\n",
      "c2 reclass processed med\n",
      "c3 reclass processed med\n",
      "c4 reclass processed med\n",
      "c5 reclass processed med\n",
      "c0 reclass processed high\n",
      "c1 reclass processed high\n",
      "c2 reclass processed high\n",
      "c3 reclass processed high\n",
      "c4 reclass processed high\n",
      "c5 reclass processed high\n",
      "ALL DONE YAY!\n"
     ]
    }
   ],
   "source": [
    "#reclassify each scenario to reflect which areas are inundated or uninundated\n",
    "\n",
    "c0_reclass = Reclassify(c0_inundation, \"Value\", RemapRange([[-100,0,1],[0,100,0]]))\n",
    "print('c0 reclass processed')\n",
    "c1_reclass = Reclassify(c1_inundation, \"Value\", RemapRange([[-100,0,1],[0,100,0]]))\n",
    "print('c1 reclass processed')\n",
    "c2_reclass = Reclassify(c2_inundation, \"Value\", RemapRange([[-100,0,1],[0,100,0]]))\n",
    "print('c2 reclass processed')\n",
    "c3_reclass = Reclassify(c3_inundation, \"Value\", RemapRange([[-100,0,1],[0,100,0]]))\n",
    "print('c3 reclass processed')\n",
    "c4_reclass = Reclassify(c4_inundation, \"Value\", RemapRange([[-100,0,1],[0,100,0]]))\n",
    "print('c4 reclass processed')\n",
    "c5_reclass = Reclassify(c5_inundation, \"Value\", RemapRange([[-100,0,1],[0,100,0]]))\n",
    "print('c5 reclass processed')\n",
    "\n",
    "c0_reclass_low = Reclassify(c0_inundation_low, \"Value\", RemapRange([[-100,0,1],[0,100,0]]))\n",
    "print('c0 reclass processed low')\n",
    "c1_reclass_low = Reclassify(c1_inundation_low, \"Value\", RemapRange([[-100,0,1],[0,100,0]]))\n",
    "print('c1 reclass processed low')\n",
    "c2_reclass_low = Reclassify(c2_inundation_low, \"Value\", RemapRange([[-100,0,1],[0,100,0]]))\n",
    "print('c2 reclass processed low')\n",
    "c3_reclass_low = Reclassify(c3_inundation_low, \"Value\", RemapRange([[-100,0,1],[0,100,0]]))\n",
    "print('c3 reclass processed low')\n",
    "c4_reclass_low = Reclassify(c4_inundation_low, \"Value\", RemapRange([[-100,0,1],[0,100,0]]))\n",
    "print('c4 reclass processed low')\n",
    "c5_reclass_low = Reclassify(c5_inundation_low, \"Value\", RemapRange([[-100,0,1],[0,100,0]]))\n",
    "print('c5 reclass processed low')\n",
    "\n",
    "c0_reclass_med = Reclassify(c0_inundation_med, \"Value\", RemapRange([[-100,0,1],[0,100,0]]))\n",
    "print('c0 reclass processed med')\n",
    "c1_reclass_med = Reclassify(c1_inundation_med, \"Value\", RemapRange([[-100,0,1],[0,100,0]]))\n",
    "print('c1 reclass processed med')\n",
    "c2_reclass_med = Reclassify(c2_inundation_med, \"Value\", RemapRange([[-100,0,1],[0,100,0]]))\n",
    "print('c2 reclass processed med')\n",
    "c3_reclass_med = Reclassify(c3_inundation_med, \"Value\", RemapRange([[-100,0,1],[0,100,0]]))\n",
    "print('c3 reclass processed med')\n",
    "c4_reclass_med = Reclassify(c4_inundation_med, \"Value\", RemapRange([[-100,0,1],[0,100,0]]))\n",
    "print('c4 reclass processed med')\n",
    "c5_reclass_med = Reclassify(c5_inundation_med, \"Value\", RemapRange([[-100,0,1],[0,100,0]]))\n",
    "print('c5 reclass processed med')\n",
    "\n",
    "c0_reclass_high = Reclassify(c0_inundation_high, \"Value\", RemapRange([[-100,0,1],[0,100,0]]))\n",
    "print('c0 reclass processed high')\n",
    "c1_reclass_high = Reclassify(c1_inundation_high, \"Value\", RemapRange([[-100,0,1],[0,100,0]]))\n",
    "print('c1 reclass processed high')\n",
    "c2_reclass_high = Reclassify(c2_inundation_high, \"Value\", RemapRange([[-100,0,1],[0,100,0]]))\n",
    "print('c2 reclass processed high')\n",
    "c3_reclass_high = Reclassify(c3_inundation_high, \"Value\", RemapRange([[-100,0,1],[0,100,0]]))\n",
    "print('c3 reclass processed high')\n",
    "c4_reclass_high = Reclassify(c4_inundation_high, \"Value\", RemapRange([[-100,0,1],[0,100,0]]))\n",
    "print('c4 reclass processed high')\n",
    "c5_reclass_high = Reclassify(c5_inundation_high, \"Value\", RemapRange([[-100,0,1],[0,100,0]]))\n",
    "print('c5 reclass processed high')"
   ]
  },
  {
   "cell_type": "code",
   "execution_count": 15,
   "metadata": {},
   "outputs": [
    {
     "name": "stdout",
     "output_type": "stream",
     "text": [
      "done again\n"
     ]
    }
   ],
   "source": [
    "#add up the reclassified rasters from the previous step to a combined raster, reflecting degrees of inundation under each storm scenario\n",
    "\n",
    "reclasses=(c0_reclass,c1_reclass,c2_reclass,c3_reclass,c4_reclass,c5_reclass)\n",
    "added = sum(reclasses)\n",
    "outname = r\"C:\\Users\\mdhowlan\\Desktop\\StormSurge\\combined_surges.tif\"\n",
    "added.save(outname)\n",
    "\n",
    "reclasses_low=(c0_reclass_low,c1_reclass_low,c2_reclass_low,c3_reclass_low,c4_reclass_low,c5_reclass_low)\n",
    "added_low = sum(reclasses_low)\n",
    "outname_low = r\"C:\\Users\\mdhowlan\\Desktop\\StormSurge\\combined_surges_low.tif\"\n",
    "added_low.save(outname_low)\n",
    "\n",
    "reclasses_med=(c0_reclass_med,c1_reclass_med,c2_reclass_med,c3_reclass_med,c4_reclass_med,c5_reclass_med)\n",
    "added_med = sum(reclasses_med)\n",
    "outname_med = r\"C:\\Users\\mdhowlan\\Desktop\\StormSurge\\combined_surges_med.tif\"\n",
    "added_med.save(outname_med)\n",
    "\n",
    "reclasses_high=(c0_reclass_high,c1_reclass_high,c2_reclass_high,c3_reclass_high,c4_reclass_high,c5_reclass_high)\n",
    "added_high = sum(reclasses_high)\n",
    "outname_high = r\"C:\\Users\\mdhowlan\\Desktop\\StormSurge\\combined_surges_high.tif\"\n",
    "added_high.save(outname_high)\n",
    "\n",
    "print('done again')"
   ]
  },
  {
   "cell_type": "code",
   "execution_count": 5,
   "metadata": {},
   "outputs": [],
   "source": [
    "#convert these added and reclassified rasters to polygons to facilitate comparison to archaeological sites\n",
    "\n",
    "poly_high = arcpy.conversion.RasterToPolygon(\"added_high\", r\"C:\\Users\\mdhowlan\\Desktop\\StormSurge\\HighSLR_Inundation.shp\", \"NO_SIMPLIFY\", \"Value\", \"MULTIPLE_OUTER_PART\", None)\n",
    "poly_med = arcpy.conversion.RasterToPolygon(\"added_med\", r\"C:\\Users\\mdhowlan\\Desktop\\StormSurge\\MedSLR_Inundation.shp\", \"NO_SIMPLIFY\", \"Value\", \"MULTIPLE_OUTER_PART\", None)\n",
    "poly_low = arcpy.conversion.RasterToPolygon(\"added_low\", r\"C:\\Users\\mdhowlan\\Desktop\\StormSurge\\LowSLR_Inundation.shp\", \"NO_SIMPLIFY\", \"Value\", \"MULTIPLE_OUTER_PART\", None)\n",
    "poly_pres = arcpy.conversion.RasterToPolygon(\"added\", r\"C:\\Users\\mdhowlan\\Desktop\\StormSurge\\PresSLR_Inundation.shp\", \"NO_SIMPLIFY\", \"Value\", \"MULTIPLE_OUTER_PART\", None)"
   ]
  },
  {
   "cell_type": "code",
   "execution_count": 6,
   "metadata": {},
   "outputs": [
    {
     "data": {
      "text/html": [
       "<div class='gpresult'><h2>Messages</h2><div id='messages' data-messages='[\"Start Time: Tuesday, November 7, 2023 10:05:07 AM\",\"Succeeded at Tuesday, November 7, 2023 10:05:11 AM (Elapsed Time: 4.76 seconds)\"]' data-show='true'><div id = 'default' /></div></div>"
      ],
      "text/plain": [
       "<geoprocessing server result object object at 0x000001D567676CF0>"
      ]
     },
     "execution_count": 6,
     "metadata": {},
     "output_type": "execute_result"
    }
   ],
   "source": [
    "#add attribute to GNAHRGIS points, reflecting whether or not the archaeological site was inundated under each SLR scenario and by which level of storm surge\n",
    "arcpy.sa.ExtractMultiValuesToPoints(\"GNAHRGIS_Points_v2\", \"added PresentSLR;added_low LowSLR;added_med MedSLR;added_high HighSLR\", \"NONE\")"
   ]
  },
  {
   "cell_type": "code",
   "execution_count": 4,
   "metadata": {},
   "outputs": [
    {
     "data": {
      "text/html": [
       "<div class='gpresult'><h2>Messages</h2><div id='messages' data-messages='[\"Start Time: Tuesday, November 7, 2023 10:21:15 AM\",\"Succeeded at Tuesday, November 7, 2023 10:21:20 AM (Elapsed Time: 5.56 seconds)\"]' data-show='true'><div id = 'default' /></div></div>"
      ],
      "text/plain": [
       "<geoprocessing server result object object at 0x000002B0E81B9810>"
      ]
     },
     "execution_count": 4,
     "metadata": {},
     "output_type": "execute_result"
    }
   ],
   "source": [
    "#add attribute to GNAHRGIS points reflecting the elevation in masl for each SLR scenario\n",
    "\n",
    "arcpy.sa.ExtractMultiValuesToPoints(\"GNAHRGIS_Points_v2\", \"Coast10_DEM.tif masl;lowSLR_DEM masl_low;medSLR_DEM masl_med;highSLR_DEM masl_high\", \"NONE\")\n"
   ]
  },
  {
   "cell_type": "code",
   "execution_count": 5,
   "metadata": {},
   "outputs": [
    {
     "data": {
      "text/html": [
       "<div class='gpresult'><h2>Messages</h2><div id='messages' data-messages='[\"Start Time: Tuesday, November 7, 2023 10:24:47 AM\",\"Succeeded at Tuesday, November 7, 2023 10:24:48 AM (Elapsed Time: 0.71 seconds)\"]' data-show='true'><div id = 'default' /></div></div>"
      ],
      "text/plain": [
       "<Result 'C:\\\\Users\\\\mdhowlan\\\\Documents\\\\ArcGIS\\\\Projects\\\\Georgia Flooding\\\\Georgia Flooding.gdb\\\\GNAHRGIS_Points_v2'>"
      ]
     },
     "execution_count": 5,
     "metadata": {},
     "output_type": "execute_result"
    }
   ],
   "source": [
    "#the code below queries points to see if they are in areas recorded as uninundated through the methods above and also if they are below the height of the maximum storm surge along the coast\n",
    "#these sites can rightfully be said to be at risk\n",
    "\n",
    "import arcpy\n",
    "\n",
    "# Set the path to your point feature class\n",
    "feature_class = r'C:\\Users\\mdhowlan\\Documents\\ArcGIS\\Projects\\Georgia Flooding\\Georgia Flooding.gdb\\GNAHRGIS_Points_v2'\n",
    "\n",
    "# Define the expression to update \"LowSLR\" based on conditions\n",
    "expression = \"\"\"updateLowSLR(!masl_low!, !LowSLR!)\"\"\"\n",
    "\n",
    "# Define the code block with the update function\n",
    "code_block = \"\"\"\n",
    "def updateLowSLR(masl_low, LowSLR):\n",
    "    if masl_low < 3.29 and LowSLR == 0:\n",
    "        return 5\n",
    "    elif masl_low < 5.24 and LowSLR == 0:\n",
    "        return 4\n",
    "    elif masl_low < 6.88 and LowSLR == 0:\n",
    "        return 3\n",
    "    elif masl_low < 8.29 and LowSLR == 0:\n",
    "        return 2\n",
    "    elif masl_low < 10.54 and LowSLR == 0:\n",
    "        return 1   \n",
    "    else:\n",
    "        return LowSLR\n",
    "\"\"\"\n",
    "\n",
    "# Execute the Calculate Field tool\n",
    "arcpy.management.CalculateField(feature_class, \"LowSLR\", expression, \"PYTHON3\", code_block)\n"
   ]
  },
  {
   "cell_type": "code",
   "execution_count": 6,
   "metadata": {},
   "outputs": [
    {
     "data": {
      "text/html": [
       "<div class='gpresult'><h2>Messages</h2><div id='messages' data-messages='[\"Start Time: Tuesday, November 7, 2023 10:25:03 AM\",\"Succeeded at Tuesday, November 7, 2023 10:25:04 AM (Elapsed Time: 0.73 seconds)\"]' data-show='true'><div id = 'default' /></div></div>"
      ],
      "text/plain": [
       "<Result 'C:\\\\Users\\\\mdhowlan\\\\Documents\\\\ArcGIS\\\\Projects\\\\Georgia Flooding\\\\Georgia Flooding.gdb\\\\GNAHRGIS_Points_v2'>"
      ]
     },
     "execution_count": 6,
     "metadata": {},
     "output_type": "execute_result"
    }
   ],
   "source": [
    "import arcpy\n",
    "\n",
    "# Set the path to your point feature class\n",
    "feature_class = r'C:\\Users\\mdhowlan\\Documents\\ArcGIS\\Projects\\Georgia Flooding\\Georgia Flooding.gdb\\GNAHRGIS_Points_v2'\n",
    "\n",
    "# Define the expression to update \"LowSLR\" based on conditions\n",
    "expression = \"\"\"updateMedSLR(!masl_med!, !MedSLR!)\"\"\"\n",
    "\n",
    "# Define the code block with the update function\n",
    "code_block = \"\"\"\n",
    "def updateMedSLR(masl_med, MedSLR):\n",
    "    if masl_med < 3.29 and MedSLR == 0:\n",
    "        return 5\n",
    "    elif masl_med < 5.24 and MedSLR == 0:\n",
    "        return 4\n",
    "    elif masl_med < 6.88 and MedSLR == 0:\n",
    "        return 3\n",
    "    elif masl_med < 8.29 and MedSLR == 0:\n",
    "        return 2\n",
    "    elif masl_med < 10.54 and MedSLR == 0:\n",
    "        return 1   \n",
    "    else:\n",
    "        return MedSLR\n",
    "\"\"\"\n",
    "\n",
    "# Execute the Calculate Field tool\n",
    "arcpy.management.CalculateField(feature_class, \"MedSLR\", expression, \"PYTHON3\", code_block)\n"
   ]
  },
  {
   "cell_type": "code",
   "execution_count": 7,
   "metadata": {},
   "outputs": [
    {
     "data": {
      "text/html": [
       "<div class='gpresult'><h2>Messages</h2><div id='messages' data-messages='[\"Start Time: Tuesday, November 7, 2023 10:25:11 AM\",\"Succeeded at Tuesday, November 7, 2023 10:25:11 AM (Elapsed Time: 0.75 seconds)\"]' data-show='true'><div id = 'default' /></div></div>"
      ],
      "text/plain": [
       "<Result 'C:\\\\Users\\\\mdhowlan\\\\Documents\\\\ArcGIS\\\\Projects\\\\Georgia Flooding\\\\Georgia Flooding.gdb\\\\GNAHRGIS_Points_v2'>"
      ]
     },
     "execution_count": 7,
     "metadata": {},
     "output_type": "execute_result"
    }
   ],
   "source": [
    "import arcpy\n",
    "\n",
    "# Set the path to your point feature class\n",
    "feature_class = r'C:\\Users\\mdhowlan\\Documents\\ArcGIS\\Projects\\Georgia Flooding\\Georgia Flooding.gdb\\GNAHRGIS_Points_v2'\n",
    "\n",
    "# Define the expression to update \"LowSLR\" based on conditions\n",
    "expression = \"\"\"updateHighSLR(!masl_high!, !HighSLR!)\"\"\"\n",
    "\n",
    "# Define the code block with the update function\n",
    "code_block = \"\"\"\n",
    "def updateHighSLR(masl_high, HighSLR):\n",
    "    if masl_high < 3.29 and HighSLR == 0:\n",
    "        return 5\n",
    "    elif masl_high < 5.24 and HighSLR == 0:\n",
    "        return 4\n",
    "    elif masl_high < 6.88 and HighSLR == 0:\n",
    "        return 3\n",
    "    elif masl_high < 8.29 and HighSLR == 0:\n",
    "        return 2\n",
    "    elif masl_high < 10.54 and HighSLR == 0:\n",
    "        return 1   \n",
    "    else:\n",
    "        return HighSLR\n",
    "\"\"\"\n",
    "\n",
    "# Execute the Calculate Field tool\n",
    "arcpy.management.CalculateField(feature_class, \"HighSLR\", expression, \"PYTHON3\", code_block)\n"
   ]
  },
  {
   "cell_type": "code",
   "execution_count": null,
   "metadata": {},
   "outputs": [],
   "source": []
  }
 ],
 "metadata": {
  "kernelspec": {
   "display_name": "ArcGISPro",
   "language": "Python",
   "name": "python3"
  },
  "language_info": {
   "file_extension": ".py",
   "name": "python",
   "version": "3"
  }
 },
 "nbformat": 4,
 "nbformat_minor": 2
}
